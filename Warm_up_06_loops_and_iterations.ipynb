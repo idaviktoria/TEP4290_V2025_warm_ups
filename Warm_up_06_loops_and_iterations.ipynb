{
 "cells": [
  {
   "cell_type": "markdown",
   "metadata": {},
   "source": [
    "# Dynamic Modelling Course - TEP4290: Warm-up 6\n",
    "The point of this exercise is for you to practice what you have learned in the recommended videos and notebook on loops: \n",
    "- https://www.py4e.com/lessons/loops and \n",
    "- https://github.com/jakevdp/WhirlwindTourOfPython/blob/master/10-Iterators.ipynb\n",
    "\n",
    "You will perform some basic operations that are designed to help you to get comforable with loops and iterations in Python. The exercise is pass/fail.\n",
    "\n",
    "Good luck!"
   ]
  },
  {
   "cell_type": "markdown",
   "metadata": {},
   "source": [
    "### Quick summary"
   ]
  },
  {
   "cell_type": "markdown",
   "metadata": {},
   "source": [
    "#### Infinite loops - while loops"
   ]
  },
  {
   "cell_type": "markdown",
   "metadata": {},
   "source": [
    "A while loop is a statement that will execute its body repeatetly as long as its condition is true:\n",
    "the following chunk of code will never stop (try if you want, you can just restart the kernel to stop it)."
   ]
  },
  {
   "cell_type": "code",
   "execution_count": 1,
   "metadata": {},
   "outputs": [],
   "source": [
    "#while True:\n",
    "#    print('Infinite power!')"
   ]
  },
  {
   "cell_type": "markdown",
   "metadata": {},
   "source": [
    "To make productive use of while loops we therefore often use an iteration variable - something that helps to stop it:"
   ]
  },
  {
   "cell_type": "code",
   "execution_count": 2,
   "metadata": {},
   "outputs": [
    {
     "name": "stdout",
     "output_type": "stream",
     "text": [
      "Go shopping!\n",
      "Go shopping!\n",
      "Go shopping!\n",
      "Go shopping!\n",
      "Go shopping!\n",
      "Go to work.\n"
     ]
    }
   ],
   "source": [
    "bank_account = 1000\n",
    "while bank_account >0:\n",
    "    print('Go shopping!')\n",
    "    bank_account -= 200\n",
    "print('Go to work.')"
   ]
  },
  {
   "cell_type": "markdown",
   "metadata": {},
   "source": [
    "Another option is to use the break keyword: "
   ]
  },
  {
   "cell_type": "code",
   "execution_count": 3,
   "metadata": {},
   "outputs": [
    {
     "name": "stdout",
     "output_type": "stream",
     "text": [
      "Go shopping!\n",
      "Go shopping!\n",
      "Go shopping!\n",
      "Go shopping!\n",
      "Go shopping!\n",
      "Go shopping!\n",
      "Go to work.\n"
     ]
    }
   ],
   "source": [
    "bank_account = 1000\n",
    "while True:\n",
    "    print('Go shopping!')\n",
    "    bank_account -= 200\n",
    "    if bank_account <0:\n",
    "        print('Go to work.')\n",
    "        break"
   ]
  },
  {
   "cell_type": "markdown",
   "metadata": {},
   "source": [
    "#### Finite loops:\n",
    "Much more often you will need a finite loop, using a for statetment:"
   ]
  },
  {
   "cell_type": "code",
   "execution_count": 4,
   "metadata": {},
   "outputs": [
    {
     "name": "stdout",
     "output_type": "stream",
     "text": [
      "1\n",
      "2\n",
      "3\n"
     ]
    }
   ],
   "source": [
    "liste = [1,2,3]\n",
    "for element in liste:\n",
    "    print(element)"
   ]
  },
  {
   "cell_type": "markdown",
   "metadata": {},
   "source": [
    "For loops need to iterate over something - there are some nice tricks to this which you will pick up as you go (I recommend to just use google/stackoverflow to check for smart ways of doing what you want to do). \n",
    "\n",
    "A simple example of this can be if you want to have both an element and its index from a list and can use enumerate:"
   ]
  },
  {
   "cell_type": "code",
   "execution_count": 5,
   "metadata": {},
   "outputs": [
    {
     "name": "stdout",
     "output_type": "stream",
     "text": [
      "Superman is on place 0\n",
      "Batman is on place 1\n",
      "Green Lantern is on place 2\n",
      "Aquaman is on place 3\n"
     ]
    }
   ],
   "source": [
    "names = ['Superman', 'Batman', 'Green Lantern', 'Aquaman']\n",
    "for index, name in enumerate(names):\n",
    "    print(name, 'is on place', index)"
   ]
  },
  {
   "cell_type": "markdown",
   "metadata": {},
   "source": [
    "# Tasks\n",
    "Complete the tasks outlined below to achieve the same output as you find in the original file. Use the specific method described if applicable."
   ]
  },
  {
   "cell_type": "markdown",
   "metadata": {},
   "source": [
    "## For loop print:\n",
    "Using a for loop, write a function happy_wishes that prints happy new year for a list of three of your friends. Once you have wished all of them happy new year, print 'Done!'"
   ]
  },
  {
   "cell_type": "code",
   "execution_count": 6,
   "metadata": {},
   "outputs": [
    {
     "name": "stdout",
     "output_type": "stream",
     "text": [
      "Happy New Year: Superman\n",
      "Happy New Year: Batman\n",
      "Happy New Year: Green Lantern\n",
      "Done!\n"
     ]
    }
   ],
   "source": [
    "\n",
    "\n",
    "friends = ['Superman', 'Batman', 'Green Lantern']\n",
    "happy_wishes(friends)"
   ]
  },
  {
   "cell_type": "markdown",
   "metadata": {},
   "source": [
    "## Chessboard\n",
    "A chessboard has rows that go from 1 to 8 and columns that go from A to H. Write a function using a for loop that returns all possibible positions a piece can be at, and puts them into a list."
   ]
  },
  {
   "cell_type": "code",
   "execution_count": 1,
   "metadata": {
    "scrolled": true
   },
   "outputs": [
    {
     "name": "stdout",
     "output_type": "stream",
     "text": [
      "['A1', 'A2', 'A3', 'A4', 'A5', 'A6', 'A7', 'A8', 'B1', 'B2', 'B3', 'B4', 'B5', 'B6', 'B7', 'B8', 'C1', 'C2', 'C3', 'C4', 'C5', 'C6', 'C7', 'C8', 'D1', 'D2', 'D3', 'D4', 'D5', 'D6', 'D7', 'D8', 'E1', 'E2', 'E3', 'E4', 'E5', 'E6', 'E7', 'E8', 'F1', 'F2', 'F3', 'F4', 'F5', 'F6', 'F7', 'F8', 'G1', 'G2', 'G3', 'G4', 'G5', 'G6', 'G7', 'G8', 'H1', 'H2', 'H3', 'H4', 'H5', 'H6', 'H7', 'H8']\n"
     ]
    }
   ],
   "source": [
    "def make_chessboard(columns, rows):\n",
    "    chessboard = []\n",
    "    for column in columns:\n",
    "        for row in rows:\n",
    "            position = f'{column}{row}'\n",
    "            chessboard.append(position)\n",
    "    return chessboard\n",
    "\n",
    "# Starting point\n",
    "columns = ['A', 'B', 'C', 'D', 'E', 'F', 'G', 'H']\n",
    "rows = range(1, 9)\n",
    "\n",
    "# Generate the chessboard\n",
    "my_board = make_chessboard(columns, rows)\n",
    "print(my_board)"
   ]
  },
  {
   "cell_type": "markdown",
   "metadata": {},
   "source": [
    "## Finding things\n",
    "Write a function that takes in a list of names and a single name and checks if that name occurs in the list using a for loop.\n",
    "\n",
    "Hint: you can use break or just return (works like break if you want to terminate the entire function. How else could you solve that task?"
   ]
  },
  {
   "cell_type": "code",
   "execution_count": 17,
   "metadata": {},
   "outputs": [
    {
     "data": {
      "text/plain": [
       "False"
      ]
     },
     "execution_count": 17,
     "metadata": {},
     "output_type": "execute_result"
    }
   ],
   "source": [
    "def find(names_list, name_to_find):\n",
    "    for name in names_list:\n",
    "        if name == name_to_find:\n",
    "            return True\n",
    "    return False\n",
    "\n",
    "list_of_names = ['Superman', 'Batman', 'Green Lantern', 'Batman', 'Aquaman', 'Batman']\n",
    "name_to_find = 'Batman'\n",
    "name_to_find2 = 'Flash'\n",
    "\n",
    "find(['Superman', 'Batman', 'Green Lantern', 'Batman', 'Aquaman', 'Batman'], 'Batman')\n",
    "find(['Superman', 'Batman', 'Green Lantern', 'Aquaman'], 'Flash')\n",
    "find(list_of_names, name_to_find)\n",
    "find(list_of_names, name_to_find2)"
   ]
  },
  {
   "cell_type": "code",
   "execution_count": 16,
   "metadata": {},
   "outputs": [
    {
     "data": {
      "text/plain": [
       "True"
      ]
     },
     "execution_count": 16,
     "metadata": {},
     "output_type": "execute_result"
    }
   ],
   "source": [
    "def find_name(names_list, name_to_find):\n",
    "    return name_to_find in names_list\n",
    "\n",
    "find_name(['Superman', 'Batman', 'Green Lantern', 'Batman', 'Aquaman', 'Batman'], 'Batman')\n",
    "find_name(list_of_names, name_to_find)"
   ]
  },
  {
   "cell_type": "markdown",
   "metadata": {},
   "source": [
    "## Counting things\n",
    "Do the same as before: write a function that takes in a list of names and a single name, but this time return _how often_ the name occurs in the list."
   ]
  },
  {
   "cell_type": "code",
   "execution_count": 18,
   "metadata": {},
   "outputs": [
    {
     "data": {
      "text/plain": [
       "3"
      ]
     },
     "execution_count": 18,
     "metadata": {},
     "output_type": "execute_result"
    }
   ],
   "source": [
    "def count(names_list, name_to_find):\n",
    "    count = 0\n",
    "    for name in names_list:\n",
    "        if name == name_to_find:\n",
    "            count += 1\n",
    "    return count\n",
    "\n",
    "count(['Superman', 'Batman', 'Green Lantern', 'Batman', 'Aquaman', 'Batman'], 'Batman')"
   ]
  },
  {
   "cell_type": "markdown",
   "metadata": {},
   "source": [
    "## Fibonacci\n",
    "Can you write a function called fibonacci that takes an integer n as an argument and returns the list of the n first numbers of the fibonacci sequence? Write the funtion and print the result for n=20.\n",
    "\n",
    "A fibonaci sequence starts with two numbers (usually 0 and 1), each entry after that is the sum of the two prior. See also https://en.wikipedia.org/wiki/Fibonacci_number.\n",
    "\n",
    "Hint: There are many solutions to this task - with varying efficiencies you might use for loops, while loops or recursion."
   ]
  },
  {
   "cell_type": "code",
   "execution_count": 19,
   "metadata": {},
   "outputs": [
    {
     "name": "stdout",
     "output_type": "stream",
     "text": [
      "[0, 1, 1, 2, 3, 5, 8, 13, 21, 34, 55, 89, 144, 233, 377, 610, 987, 1597, 2584, 4181]\n"
     ]
    }
   ],
   "source": [
    "def fibonnacci(n):\n",
    "    \"\"\" \n",
    "    This function takes an integer n as an argument and \n",
    "    returns the list of the n first numbers of the fibonacci list\n",
    "    \"\"\"\n",
    "    if n <= 0:\n",
    "        return []\n",
    "    elif n == 1:\n",
    "        return [0]\n",
    "    elif n == 2:\n",
    "        return [0, 1]\n",
    "    \n",
    "    fib_sequence = [0, 1]\n",
    "    for i in range(2, n):\n",
    "        next_number = fib_sequence[-1] + fib_sequence[-2]\n",
    "        fib_sequence.append(next_number)\n",
    "    \n",
    "    return fib_sequence\n",
    "\n",
    "print(fibonnacci(20))"
   ]
  }
 ],
 "metadata": {
  "kernelspec": {
   "display_name": "MFA",
   "language": "python",
   "name": "python3"
  },
  "language_info": {
   "codemirror_mode": {
    "name": "ipython",
    "version": 3
   },
   "file_extension": ".py",
   "mimetype": "text/x-python",
   "name": "python",
   "nbconvert_exporter": "python",
   "pygments_lexer": "ipython3",
   "version": "3.9.21"
  }
 },
 "nbformat": 4,
 "nbformat_minor": 4
}
