{
 "cells": [
  {
   "cell_type": "markdown",
   "metadata": {},
   "source": [
    "# Dynamic Modelling Course - TEP4290: Warm-up 11\n",
    "The point of this exercise is for you to get familiar with the terminology and logic of objects in python and for advanced students to get some first hands-on practice with classes. You can use the following resources:\n",
    "\n",
    "- the python for everyone classes (video 1 and 2 for the mandatory part, 3 and 4 optionally) https://www.py4e.com/lessons/Objects\n",
    "- notebook for advanced content: https://www.nbshare.io/notebook/986482930/Object-Oriented-Programming-In-Python/#Python-Classes\n",
    "\n",
    "You will demonstrate some understanding of objects in teh mandatory part and to some light coding in the optional part of the assignment. The exercise is pass/fail (only the mandatory part is considered).\n",
    "\n",
    "Good luck!"
   ]
  },
  {
   "cell_type": "markdown",
   "metadata": {},
   "source": [
    "## Quick summary"
   ]
  },
  {
   "cell_type": "markdown",
   "metadata": {},
   "source": [
    "Fundamentally almost everything you use in Python has to do with objects - it is an object oriented language! This opens up exiting options like using built in functions for objects that you already are familiar with, but we also want to understand how an object is fundamentally built in Python."
   ]
  },
  {
   "cell_type": "markdown",
   "metadata": {},
   "source": [
    "### Nomenclature\n",
    "You should understand the following words and underlying concepts:\n",
    " - class: a template for objects of a certain type\n",
    " - method: function for a object of a certain type\n",
    " - attribute: data (object) that belongs to an object\n",
    " - instance: an object of a class\n",
    " \n",
    " advanced:\n",
    " - constructor: the function that takes care of making an instance of that class\n",
    " - inheritance: the concept of taking the methods and attributes of a parent class into the child class"
   ]
  },
  {
   "cell_type": "markdown",
   "metadata": {},
   "source": [
    "### Anatomy of class definitions"
   ]
  },
  {
   "cell_type": "code",
   "execution_count": 1,
   "metadata": {},
   "outputs": [],
   "source": [
    "#fundamental structure:\n",
    "class ClassName: #definition. Class names _should_ start with capital letters\n",
    "    class_attribute = 'attribute' # every instance will have this attribute\n",
    "    \n",
    "    def __init__(self, init_argument): #the constructor of the class, is called by typing ClassName()\n",
    "        self.init_argument = init_argument # self just points at this object, so this makes a second attribute\n",
    "    def method(self, argument): #defining a method for this class that does something with some input\n",
    "        print('Do some stuff with', argument)"
   ]
  },
  {
   "cell_type": "markdown",
   "metadata": {},
   "source": [
    "A simple example"
   ]
  },
  {
   "cell_type": "code",
   "execution_count": 2,
   "metadata": {},
   "outputs": [
    {
     "name": "stdout",
     "output_type": "stream",
     "text": [
      "Wuff! Wuff!\n",
      "The owner of Bo is Obama\n",
      "The owner of Fluffy is unknown\n"
     ]
    }
   ],
   "source": [
    "class Dog:\n",
    "    '''Simple example class.'''\n",
    "    def __init__(self, name, owner):\n",
    "        self.name = name\n",
    "        self.owner = owner\n",
    "    \n",
    "    def bark(self):\n",
    "        print('Wuff! Wuff!')\n",
    "    \n",
    "    def print_owner(self):\n",
    "        print('The owner of', self.name,'is', self.owner)\n",
    "\n",
    "bo = Dog('Bo', 'Obama')\n",
    "bo.bark()\n",
    "bo.print_owner()\n",
    "\n",
    "fluffy = Dog('Fluffy', 'unknown')\n",
    "fluffy.print_owner()\n"
   ]
  },
  {
   "cell_type": "markdown",
   "metadata": {},
   "source": [
    "# Mandatory Tasks\n",
    "Complete the tasks outlined below and either answer the questions or complete the code to achieve the same output as you find in the original file."
   ]
  },
  {
   "cell_type": "markdown",
   "metadata": {},
   "source": [
    "### Methods of objects you know\n",
    "Here we want you to look up the methods that objects that you already used have!"
   ]
  },
  {
   "cell_type": "code",
   "execution_count": 3,
   "metadata": {
    "scrolled": true
   },
   "outputs": [
    {
     "name": "stdout",
     "output_type": "stream",
     "text": [
      "otto\n"
     ]
    },
    {
     "data": {
      "text/plain": [
       "['__add__',\n",
       " '__class__',\n",
       " '__contains__',\n",
       " '__delattr__',\n",
       " '__dir__',\n",
       " '__doc__',\n",
       " '__eq__',\n",
       " '__format__',\n",
       " '__ge__',\n",
       " '__getattribute__',\n",
       " '__getitem__',\n",
       " '__getnewargs__',\n",
       " '__gt__',\n",
       " '__hash__',\n",
       " '__init__',\n",
       " '__init_subclass__',\n",
       " '__iter__',\n",
       " '__le__',\n",
       " '__len__',\n",
       " '__lt__',\n",
       " '__mod__',\n",
       " '__mul__',\n",
       " '__ne__',\n",
       " '__new__',\n",
       " '__reduce__',\n",
       " '__reduce_ex__',\n",
       " '__repr__',\n",
       " '__rmod__',\n",
       " '__rmul__',\n",
       " '__setattr__',\n",
       " '__sizeof__',\n",
       " '__str__',\n",
       " '__subclasshook__',\n",
       " 'capitalize',\n",
       " 'casefold',\n",
       " 'center',\n",
       " 'count',\n",
       " 'encode',\n",
       " 'endswith',\n",
       " 'expandtabs',\n",
       " 'find',\n",
       " 'format',\n",
       " 'format_map',\n",
       " 'index',\n",
       " 'isalnum',\n",
       " 'isalpha',\n",
       " 'isascii',\n",
       " 'isdecimal',\n",
       " 'isdigit',\n",
       " 'isidentifier',\n",
       " 'islower',\n",
       " 'isnumeric',\n",
       " 'isprintable',\n",
       " 'isspace',\n",
       " 'istitle',\n",
       " 'isupper',\n",
       " 'join',\n",
       " 'ljust',\n",
       " 'lower',\n",
       " 'lstrip',\n",
       " 'maketrans',\n",
       " 'partition',\n",
       " 'replace',\n",
       " 'rfind',\n",
       " 'rindex',\n",
       " 'rjust',\n",
       " 'rpartition',\n",
       " 'rsplit',\n",
       " 'rstrip',\n",
       " 'split',\n",
       " 'splitlines',\n",
       " 'startswith',\n",
       " 'strip',\n",
       " 'swapcase',\n",
       " 'title',\n",
       " 'translate',\n",
       " 'upper',\n",
       " 'zfill']"
      ]
     },
     "execution_count": 3,
     "metadata": {},
     "output_type": "execute_result"
    }
   ],
   "source": [
    "name = 'otto'\n",
    "print(name)\n",
    "\n"
   ]
  },
  {
   "cell_type": "markdown",
   "metadata": {},
   "source": [
    "Use the first public method capitalize:"
   ]
  },
  {
   "cell_type": "code",
   "execution_count": 4,
   "metadata": {
    "scrolled": true
   },
   "outputs": [
    {
     "data": {
      "text/plain": [
       "'Otto'"
      ]
     },
     "execution_count": 4,
     "metadata": {},
     "output_type": "execute_result"
    }
   ],
   "source": []
  },
  {
   "cell_type": "markdown",
   "metadata": {},
   "source": [
    "### What is what?\n",
    "In this task you will categorize what parts of the example code do."
   ]
  },
  {
   "cell_type": "markdown",
   "metadata": {},
   "source": [
    "#### Provided example code\n",
    "You don't need to do anything here"
   ]
  },
  {
   "cell_type": "code",
   "execution_count": 5,
   "metadata": {},
   "outputs": [
    {
     "name": "stdout",
     "output_type": "stream",
     "text": [
      "Photosynthesis.\n"
     ]
    }
   ],
   "source": [
    "class Answer:\n",
    "    punctuation_mark = '.'\n",
    "    \n",
    "    def __init__(self, answer):\n",
    "        self.content = answer\n",
    "    \n",
    "    def print_content(self):\n",
    "        print(self.content + self.punctuation_mark)\n",
    "\n",
    "sentence1 = Answer('Photosynthesis')\n",
    "sentence1.print_content()\n",
    "record = sentence1.content"
   ]
  },
  {
   "cell_type": "markdown",
   "metadata": {},
   "source": [
    "#### In one line, what role(s) do the following expressions take? What can you call them when thinking about what you learned?\n",
    "- line 1, \"Answer\": \n",
    "    - it is the name of the class\n",
    "- line 2, \" punctuation_mark = '.' \" : \n",
    "    - ...\n",
    "- line 2, \" '.' \": \n",
    "    - ...\n",
    "- line 4-5: \"def __init__(self, answer):        self.content = answer \":\n",
    "    - ...\n",
    "- line 10: \"sentence1\": \n",
    "    - ...\n",
    "- line 11: \"sentence1.print_content()\": \n",
    "    - ..."
   ]
  },
  {
   "cell_type": "markdown",
   "metadata": {},
   "source": [
    "# Optional tasks\n",
    "You really don't have to do this, but if you didn't fell challenged so far, knock yourself out."
   ]
  },
  {
   "cell_type": "markdown",
   "metadata": {},
   "source": [
    "## Make your own instances\n",
    "We will again play with the Dog class here, and also introduce a Owner class. \n",
    "\n",
    "You will create some instances of both classes and use their methods."
   ]
  },
  {
   "cell_type": "code",
   "execution_count": 6,
   "metadata": {},
   "outputs": [],
   "source": [
    "class Dog:\n",
    "    '''Simple example dog class. The dog has an owner and can bark.'''\n",
    "    def __init__(self, name):\n",
    "        self.name = name\n",
    "        self.owner = Owner('unknown')\n",
    "    \n",
    "    def bark(self):\n",
    "        print('Wuff! Wuff!')\n",
    "    \n",
    "    def print_owner(self):\n",
    "        print('The owner of', self.name,'is', self.owner.name)\n",
    "\n",
    "        \n",
    "class Owner:\n",
    "    '''\n",
    "    Simple example owner class that stores the dogs of an owner.\n",
    "    \n",
    "    Attributes:\n",
    "    - name\n",
    "    - dogs: list of all dogs that the owner has (or had!)\n",
    "    \n",
    "    Methods: \n",
    "    -assign_dog(dog): adds the dog to the list of dogs and changes the owner of the dog\n",
    "    - print_dogs\n",
    "    '''\n",
    "    def __init__(self, name):\n",
    "        self.name = name\n",
    "        self.dogs = [] #in the beginning the owner has no dogs\n",
    "    def assign_dog(self, dog):\n",
    "        self.dogs.append(dog) #adding the dog to the owners list of dogs\n",
    "        dog.owner = self #sets the name of the owner for the dog\n",
    "        \n",
    "    def print_dogs(self):\n",
    "        print(self.name,'owns the following dogs:')\n",
    "        for dog in self.dogs:\n",
    "            print(dog.name)\n",
    "        print('\\n')"
   ]
  },
  {
   "cell_type": "markdown",
   "metadata": {},
   "source": [
    "You will now initialize 2 dogs, Fluffy and Huffy and let both bark and print their owners."
   ]
  },
  {
   "cell_type": "code",
   "execution_count": 7,
   "metadata": {},
   "outputs": [
    {
     "name": "stdout",
     "output_type": "stream",
     "text": [
      "Wuff! Wuff!\n",
      "Wuff! Wuff!\n",
      "The owner of Fluffy is unknown\n",
      "The owner of Huffy is unknown\n"
     ]
    }
   ],
   "source": []
  },
  {
   "cell_type": "markdown",
   "metadata": {},
   "source": [
    "Fluffy and Huffy of course have owners: Matt is the owner of Fluffy and Phil the owner of Huffy.\n",
    "\n",
    "Initialize Matt and Phil, assign their dogs and print their list of dogs, as well as the ownership of both dogs!"
   ]
  },
  {
   "cell_type": "code",
   "execution_count": 8,
   "metadata": {},
   "outputs": [
    {
     "name": "stdout",
     "output_type": "stream",
     "text": [
      "Matt owns the following dogs:\n",
      "Fluffy\n",
      "\n",
      "\n",
      "Phil owns the following dogs:\n",
      "Huffy\n",
      "\n",
      "\n",
      "The owner of Fluffy is Matt\n",
      "The owner of Huffy is Phil\n"
     ]
    }
   ],
   "source": []
  },
  {
   "cell_type": "markdown",
   "metadata": {},
   "source": [
    "Phil dies, and Matt takes care of Huffy. Update Matts dog and show what changed."
   ]
  },
  {
   "cell_type": "code",
   "execution_count": null,
   "metadata": {},
   "outputs": [],
   "source": []
  },
  {
   "cell_type": "markdown",
   "metadata": {},
   "source": [
    "### Inheritance: make a cat class and CatOwner\n",
    "Now you finally will do some own coding! Make a cat class that works just like the dog class, add the meow method and make two cats, Grumpy and Nyan."
   ]
  },
  {
   "cell_type": "code",
   "execution_count": 10,
   "metadata": {},
   "outputs": [],
   "source": []
  },
  {
   "cell_type": "markdown",
   "metadata": {},
   "source": [
    "You made a cat from a dog, so your cats are special: they can meow _and_ bark!"
   ]
  },
  {
   "cell_type": "code",
   "execution_count": 11,
   "metadata": {},
   "outputs": [
    {
     "name": "stdout",
     "output_type": "stream",
     "text": [
      "Wuff! Wuff!\n",
      "Meow! Miau!\n"
     ]
    }
   ],
   "source": []
  },
  {
   "cell_type": "markdown",
   "metadata": {},
   "source": [
    "#### Tryto add the cats to Phil and Matt and see what happens!"
   ]
  },
  {
   "cell_type": "code",
   "execution_count": null,
   "metadata": {},
   "outputs": [],
   "source": []
  },
  {
   "cell_type": "markdown",
   "metadata": {},
   "source": [
    "# Done! Done?\n",
    "If you made it this far: kudos!\n",
    "\n",
    "It might be fun for you to develop some more small objects that interact with each other - you can do that here, but it is up to you what you do! Just think about something you want to represent in your code (a school with students and classes, blackjack or a function that calculates areas of (regular) shapes), set up a structure for your code and start - maybe even with some support from code you found online."
   ]
  }
 ],
 "metadata": {
  "kernelspec": {
   "display_name": "Python 3",
   "language": "python",
   "name": "python3"
  },
  "language_info": {
   "codemirror_mode": {
    "name": "ipython",
    "version": 3
   },
   "file_extension": ".py",
   "mimetype": "text/x-python",
   "name": "python",
   "nbconvert_exporter": "python",
   "pygments_lexer": "ipython3",
   "version": "3.8.5"
  }
 },
 "nbformat": 4,
 "nbformat_minor": 4
}
