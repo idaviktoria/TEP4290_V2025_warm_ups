{
 "cells": [
  {
   "cell_type": "markdown",
   "metadata": {},
   "source": [
    "# Dynamic Modelling Course - TEP4290: Warm-up 5\n",
    "The point of this exercise is for you to practice what you have learned in the recommended videos and notebook for custom functions:\n",
    "- PY4E: https://www.py4e.com/lessons/functions#\n",
    "- Whirwind tour of python: https://jakevdp.github.io/WhirlwindTourOfPython/08-defining-functions.html\n",
    "\n",
    "You will perform some basic operations that are designed to help you get comforable with functions in Python. The exercise is pass/fail and contributes to the required 8/12 warm-ups you need to pass.\n",
    "\n",
    "Good luck!"
   ]
  },
  {
   "cell_type": "markdown",
   "metadata": {},
   "source": [
    "### Quick summary"
   ]
  },
  {
   "cell_type": "markdown",
   "metadata": {},
   "source": [
    "#### Built-in vs self defined functions"
   ]
  },
  {
   "cell_type": "markdown",
   "metadata": {},
   "source": [
    "We can call functions in python that then do stuff for us. This can be built-in functions such as print(), or custom built functions like you will create here. \n",
    "\n",
    "For built-in functions it can be helpful to look up their documentation to see what they can do - for example for print() : https://docs.python.org/3/library/functions.html#print. Here you can see that print can print multiple arguments with different seperators we can specify"
   ]
  },
  {
   "cell_type": "code",
   "execution_count": 3,
   "metadata": {
    "scrolled": true
   },
   "outputs": [
    {
     "name": "stdout",
     "output_type": "stream",
     "text": [
      "1 2 3\n",
      "1-2-3\n",
      "1 words 2 words 3\n"
     ]
    }
   ],
   "source": [
    "#example what print() can do: \n",
    "print(1, 2, 3)\n",
    "#vs\n",
    "print(1, 2, 3, sep = '-')\n",
    "#vs\n",
    "print(1,2,3, sep = ' words ')"
   ]
  },
  {
   "cell_type": "markdown",
   "metadata": {},
   "source": [
    "Custom functions can be a good way to avoid repeating code, but also to break up difficult and complex tasks into much simpler ones, while maintaining a quick and userfriendly code (similar to what object-oriented programming offers)."
   ]
  },
  {
   "cell_type": "markdown",
   "metadata": {},
   "source": [
    "#### Anatomy of a python function definition\n",
    "In python we define such functions like this:"
   ]
  },
  {
   "cell_type": "markdown",
   "metadata": {},
   "source": [
    "Note that a function can take multiple or no arguments, and return multiple or no results."
   ]
  },
  {
   "cell_type": "markdown",
   "metadata": {},
   "source": [
    "Here a simple example for a function that does not return any results:"
   ]
  },
  {
   "cell_type": "code",
   "execution_count": 4,
   "metadata": {},
   "outputs": [
    {
     "name": "stdout",
     "output_type": "stream",
     "text": [
      "Hello Daniel\n"
     ]
    }
   ],
   "source": [
    "def hello_name(name):\n",
    "    print('Hello ' + name)\n",
    "    return\n",
    "\n",
    "hello_name('Daniel')"
   ]
  },
  {
   "cell_type": "markdown",
   "metadata": {},
   "source": [
    "And here one that implements insertion sort to sort a list of numbers. You do not need to understand the code within the function (the sorting algorithm), only what arguments it needs and what it returns"
   ]
  },
  {
   "cell_type": "code",
   "execution_count": 5,
   "metadata": {},
   "outputs": [
    {
     "name": "stdout",
     "output_type": "stream",
     "text": [
      "[1, 3, 5, 6, 7]\n"
     ]
    }
   ],
   "source": [
    "def sort_numbers(list_of_numbers):\n",
    "    \n",
    "    # Traverse through 1 to len(list_of_numbers)\n",
    "    for i in range(1, len(list_of_numbers)):\n",
    "  \n",
    "        key = list_of_numbers[i]\n",
    "  \n",
    "        # Move elements of arr[0..i-1], that are\n",
    "        # greater than key, to one position ahead\n",
    "        # of their current position\n",
    "        j = i-1\n",
    "        while j >=0 and key < list_of_numbers[j] :\n",
    "                list_of_numbers[j+1] = list_of_numbers[j]\n",
    "                j -= 1\n",
    "        list_of_numbers[j+1] = key\n",
    "    return list_of_numbers\n",
    "\n",
    "test_list = [ 3, 5, 1, 7, 6]\n",
    "\n",
    "ordered_list = sort_numbers(test_list)\n",
    "print(ordered_list)\n"
   ]
  },
  {
   "cell_type": "markdown",
   "metadata": {},
   "source": [
    "# Tasks\n",
    "Complete the tasks outlined below to achieve the same output as you find in the original file. Use the specific method described if applicable."
   ]
  },
  {
   "cell_type": "markdown",
   "metadata": {},
   "source": [
    "### Complete add function\n",
    "Complete the function add that returns the sum of two integers"
   ]
  },
  {
   "cell_type": "code",
   "execution_count": 5,
   "metadata": {},
   "outputs": [
    {
     "name": "stdout",
     "output_type": "stream",
     "text": [
      "4\n",
      "3072\n"
     ]
    }
   ],
   "source": [
    "def add(a,b):\n",
    "    result = a + b\n",
    "    return result\n",
    "\n",
    "\n",
    "print(add(2,2))\n",
    "print(add(1024, 2048))"
   ]
  },
  {
   "cell_type": "markdown",
   "metadata": {},
   "source": [
    "### Complete greeting function\n",
    "Fill in code within the function below using if/elif/else statements."
   ]
  },
  {
   "cell_type": "code",
   "execution_count": 8,
   "metadata": {
    "scrolled": true
   },
   "outputs": [
    {
     "name": "stdout",
     "output_type": "stream",
     "text": [
      "Hola Fernando\n",
      "Bonjour Marceau\n",
      "Hallo Daniel\n",
      "Hello Michael Jackson\n"
     ]
    }
   ],
   "source": [
    "def greet_teacher(teacher):\n",
    "    '''\n",
    "    Prints a greeting in the native language of the teacher.\n",
    "    \n",
    "    Arguments:\n",
    "    teacher : string with the name of the teacher\n",
    "    \n",
    "    Returns:\n",
    "    -\n",
    "    '''\n",
    "    \n",
    "    if teacher == 'Fernando':\n",
    "        greeting = 'Hola'\n",
    "    #add content\n",
    "    elif teacher == 'Marceau':\n",
    "        greeting = 'Bonjour'\n",
    "\n",
    "    elif teacher == 'Daniel':\n",
    "        greeting = 'Hallo'\n",
    "\n",
    "    elif teacher == 'Michael Jackson':\n",
    "        greeting = 'Hello'\n",
    "\n",
    "    else:\n",
    "        print(teacher + ' is not a teacher!')\n",
    "        return\n",
    "    \n",
    "    \n",
    "    print(greeting, teacher)\n",
    "    \n",
    "    return\n",
    "\n",
    "greet_teacher('Fernando')\n",
    "greet_teacher('Marceau')\n",
    "greet_teacher('Daniel')\n",
    "greet_teacher('Michael Jackson')\n",
    "        "
   ]
  },
  {
   "cell_type": "markdown",
   "metadata": {},
   "source": [
    "### Payroll function\n",
    "Write a function to compute the gross pay of a worker. Pay should be the normal rate for hours up to 40 and time-and-a-half for the hourly rate for all hours worked above 40 hours. Put the logic to do the computation of pay in a function called payroll() and use the function to do the computation. The function should return a value. \n",
    "\n",
    "Use 45 hours and a rate of 10.50 per hour to test the function (the pay should be 498.75). Do not name your variable sum or use the sum() function."
   ]
  },
  {
   "cell_type": "code",
   "execution_count": 35,
   "metadata": {},
   "outputs": [
    {
     "name": "stdout",
     "output_type": "stream",
     "text": [
      "The gross pay for 45 hours at a rate of 10.5 per hour is 498.75.\n"
     ]
    }
   ],
   "source": [
    "def payroll(hours_worked, hourly_rate):\n",
    "    if hours_worked <= 40:\n",
    "        gross_pay = hours_worked * hourly_rate\n",
    "    else:\n",
    "        regular_pay = 40 * hourly_rate\n",
    "        overtime_pay = (hours_worked - 40) * (hourly_rate * 1.5)\n",
    "        gross_pay = regular_pay + overtime_pay\n",
    "    return gross_pay\n",
    "\n",
    "#test with 45 hours and a rate of 10.50\n",
    "hours = 45\n",
    "rate = 10.50\n",
    "pay = payroll(hours, rate)\n",
    "print(f'The gross pay for {hours} hours at a rate of {rate} per hour is {pay}.')"
   ]
  },
  {
   "cell_type": "markdown",
   "metadata": {},
   "source": [
    "### Maximum value\n",
    "You can reuse functions you already defined to make your work on new functions easier. Here you will use the sort_numbers function that we defined above to create a function called maximum_value that returns the highest value from a list of numbers. You __must__ use the sort_numbers function!\n",
    "\n",
    "Test your function with the lists  [4, 2, 9, 8] and [1, -1, 1000, 0.5]"
   ]
  },
  {
   "cell_type": "code",
   "execution_count": 36,
   "metadata": {},
   "outputs": [
    {
     "name": "stdout",
     "output_type": "stream",
     "text": [
      "The maximum value in [4, 2, 9, 8] is 9.\n",
      "The maximum value in [1, -1, 1000, 0.5] is 1000.\n"
     ]
    }
   ],
   "source": [
    "\n",
    "def maximum_value(numbers):\n",
    "    sorted_numbers = sort_numbers(numbers)\n",
    "    return sorted_numbers[-1]\n",
    "\n",
    "# Test the function with the lists [4, 2, 9, 8] and [1, -1, 1000, 0.5]\n",
    "test_list1 = [4, 2, 9, 8]\n",
    "test_list2 = [1, -1, 1000, 0.5]\n",
    "\n",
    "print(f'The maximum value in {test_list1} is {maximum_value(test_list1)}.')\n",
    "print(f'The maximum value in {test_list2} is {maximum_value(test_list2)}.') "
   ]
  },
  {
   "cell_type": "markdown",
   "metadata": {},
   "source": [
    "### Best job\n",
    "You will now make use of the two last functions you defined to make a function called best_job and takes in 4 values describing two jobs (a rate for the hourly pay in each job and a number of hours for each job) and returns the payroll for the higher paying job. You must make use of the maximum_value and payroll function.\n",
    "\n",
    "Test your function with one job with 50 hours and a rate of 190 kr/hour and one with 35 hours and 225 kr/hours."
   ]
  },
  {
   "cell_type": "code",
   "execution_count": 39,
   "metadata": {},
   "outputs": [
    {
     "name": "stdout",
     "output_type": "stream",
     "text": [
      "The higher paying job has a payroll of 10450.0 kr.\n"
     ]
    }
   ],
   "source": [
    "def best_job(hours1, rate1, hours2, rate2):\n",
    "    pay1 = payroll(hours1, rate1)\n",
    "    pay2 = payroll(hours2, rate2)\n",
    "    return maximum_value([pay1, pay2])\n",
    "\n",
    "# Test the function with one job with 50 hours and a rate of 190 kr/hour and one with 35 hours and 225 kr/hour\n",
    "hours_job1 = 50\n",
    "rate_job1 = 190\n",
    "hours_job2 = 35\n",
    "rate_job2 = 225\n",
    "\n",
    "best_pay = best_job(hours_job1, rate_job1, hours_job2, rate_job2)\n",
    "print(f'The higher paying job has a payroll of {best_pay} kr.')"
   ]
  },
  {
   "cell_type": "markdown",
   "metadata": {},
   "source": [
    "# Well done!"
   ]
  }
 ],
 "metadata": {
  "kernelspec": {
   "display_name": "MFA",
   "language": "python",
   "name": "python3"
  },
  "language_info": {
   "codemirror_mode": {
    "name": "ipython",
    "version": 3
   },
   "file_extension": ".py",
   "mimetype": "text/x-python",
   "name": "python",
   "nbconvert_exporter": "python",
   "pygments_lexer": "ipython3",
   "version": "3.9.21"
  }
 },
 "nbformat": 4,
 "nbformat_minor": 4
}
