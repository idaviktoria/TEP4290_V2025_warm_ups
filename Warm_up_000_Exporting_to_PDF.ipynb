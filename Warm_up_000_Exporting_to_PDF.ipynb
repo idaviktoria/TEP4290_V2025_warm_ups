{
 "cells": [
  {
   "cell_type": "markdown",
   "metadata": {},
   "source": [
    "# Exporting Jupyter notebooks as a PDF\n",
    "\n",
    "In visual studio code: in the line under the file name (\"+ Code\", \"+ Markdown\"..) check \"more actions\"/\"export\"/\"PDF\"\n",
    "\n",
    "To make this wok, you need to install a couple of packages, see below:"
   ]
  },
  {
   "cell_type": "markdown",
   "metadata": {},
   "source": [
    "We need a couple of packages installed in our environment"
   ]
  },
  {
   "cell_type": "code",
   "execution_count": null,
   "metadata": {},
   "outputs": [],
   "source": [
    "pip install pandoc\n",
    "pip install nbconvert PyPDF2\n",
    "#test"
   ]
  },
  {
   "cell_type": "markdown",
   "metadata": {},
   "source": [
    "## additional installations\n",
    "You want to have pandoc and xelatex on your device.\n",
    "The former you can get by downloading and executing the .msc file that fits your system (linux, windows, mac): \n",
    "- https://github.com/jgm/pandoc/releases/tag/3.1.11.1\n",
    "\n",
    "The latter you can get on the latex project (just install any major version):\n",
    "- https://www.latex-project.org/get/#tex-distributions"
   ]
  },
  {
   "cell_type": "markdown",
   "metadata": {},
   "source": [
    "# If all of this does not work...\n",
    "Just save as html and then convert the html in your browser..."
   ]
  }
 ],
 "metadata": {
  "kernelspec": {
   "display_name": "TEP4290_V2025",
   "language": "python",
   "name": "python3"
  },
  "language_info": {
   "codemirror_mode": {
    "name": "ipython",
    "version": 3
   },
   "file_extension": ".py",
   "mimetype": "text/x-python",
   "name": "python",
   "nbconvert_exporter": "python",
   "pygments_lexer": "ipython3",
   "version": "3.12.8"
  }
 },
 "nbformat": 4,
 "nbformat_minor": 2
}
