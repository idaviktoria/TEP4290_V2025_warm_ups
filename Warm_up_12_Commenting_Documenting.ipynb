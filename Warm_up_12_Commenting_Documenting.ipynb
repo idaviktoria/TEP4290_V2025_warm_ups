{
 "cells": [
  {
   "attachments": {},
   "cell_type": "markdown",
   "metadata": {},
   "source": [
    "# Dynamic Modelling Course - TEP4290: Warm-up 12\n",
    "This exercise will help you to better understand how and why to comment and document, a skill that will be very important for your project work. Before completing the tasks below you should check these resources:\n",
    "\n",
    "- https://www.youtube.com/watch?v=xuaTh5aor-Q \"Real Python\" 5 min video on commenting\n",
    "- https://www.programiz.com/python-programming/docstrings Tutorial on docstrings\n",
    "- https://pep8.org/ ultimate style guide for python\n",
    "- Reasons to use type hints: https://www.youtube.com/watch?v=dgBCEB2jVU0\n",
    "- type hints in python: https://peps.python.org/pep-0484/\n",
    "\n",
    "\n",
    "You will practice some commenting and documenting in this exercise; the exercise is pass/fail.\n",
    "\n",
    "Good luck!"
   ]
  },
  {
   "cell_type": "markdown",
   "metadata": {},
   "source": [
    "## Quick summary"
   ]
  },
  {
   "cell_type": "markdown",
   "metadata": {},
   "source": [
    "You will have to comment and document the code you use in your project. While the computer executes your code, you, your partners, teachers, and anyone you ever ask for help have to **understand** your code from reading it."
   ]
  },
  {
   "cell_type": "markdown",
   "metadata": {},
   "source": [
    "## Commenting\n",
    "Fundamentally, a comment is a piece of text in your code that is not meant for execution, but rather for a human to read. In Jupyter Notebooks you can also use the markdown cells for this to some degree, but it is nice to differentiate between code specific comments and documenting your sources and approach in the markdown."
   ]
  },
  {
   "cell_type": "markdown",
   "metadata": {},
   "source": [
    "### Guidelines for commenting\n",
    "These can be up to taste:\n",
    "\n",
    "From the Real Python tutorial:\n",
    "- Keep comments as close as possible to the code that they describe.\n",
    "- Don't use complex formatting such as tables or ASCII figures.\n",
    "- Don't include redundant information.\n",
    "- Design your code to comment itself.\n",
    "\n",
    "\n",
    "From https://stackoverflow.blog/2021/12/23/best-practices-for-writing-code-comments/:\n",
    "- Rule 1: Comments should not duplicate the code.\n",
    "- Rule 2: Good comments do not excuse unclear code.\n",
    "- Rule 3: If you can’t write a clear comment, there may be a problem with the code.\n",
    "- Rule 4: Comments should dispel confusion, not cause it.\n",
    "- Rule 5: Explain unidiomatic code in comments.\n",
    "- Rule 6: Provide links to the original source of copied code.\n",
    "- Rule 7: Include links to external references where they will be most helpful.\n",
    "- Rule 8: Add comments when fixing bugs. \n",
    "- Rule 9: Use comments to mark incomplete implementations.\n",
    "\n"
   ]
  },
  {
   "cell_type": "markdown",
   "metadata": {},
   "source": [
    "## Documenting\n",
    "You will not need an extensive documentation of your project, but it is good to understand the concept and practice a bit in this course. We do not require you to follow any specific syntax inside your docstrings, nor to use them for all functions or classes - but sometimes it can be quite helpful!\n"
   ]
  },
  {
   "cell_type": "code",
   "execution_count": 22,
   "metadata": {},
   "outputs": [
    {
     "name": "stdout",
     "output_type": "stream",
     "text": [
      "printing the .__doc__ attribute:\n",
      "\n",
      "    Makes room for documentation.\n",
      "\n",
      "    Attributes:\n",
      "    - example_string\n",
      "    \n",
      "printing the output of help(ExampleClass):\n",
      "Help on class ExampleClass in module __main__:\n",
      "\n",
      "class ExampleClass(builtins.object)\n",
      " |  ExampleClass(some_string)\n",
      " |  \n",
      " |  Makes room for documentation.\n",
      " |  \n",
      " |  Attributes:\n",
      " |  - example_string\n",
      " |  \n",
      " |  Methods defined here:\n",
      " |  \n",
      " |  __init__(self, some_string)\n",
      " |      Creates an instance and assigns some_string to the example_string.\n",
      " |  \n",
      " |  print(self)\n",
      " |      Prints and returns the example_string.\n",
      " |      \n",
      " |      Arguments:\n",
      " |      - none\n",
      " |      \n",
      " |      Returns: \n",
      " |      - example_string\n",
      " |  \n",
      " |  ----------------------------------------------------------------------\n",
      " |  Data descriptors defined here:\n",
      " |  \n",
      " |  __dict__\n",
      " |      dictionary for instance variables (if defined)\n",
      " |  \n",
      " |  __weakref__\n",
      " |      list of weak references to the object (if defined)\n",
      "\n",
      "None\n",
      "printing the help(ExampleClass.print):\n",
      "Help on function print in module __main__:\n",
      "\n",
      "print(self)\n",
      "    Prints and returns the example_string.\n",
      "    \n",
      "    Arguments:\n",
      "    - none\n",
      "    \n",
      "    Returns: \n",
      "    - example_string\n",
      "\n",
      "None\n"
     ]
    }
   ],
   "source": [
    "class ExampleClass:\n",
    "    '''\n",
    "    Makes room for documentation.\n",
    "\n",
    "    Attributes:\n",
    "    - example_string\n",
    "    '''\n",
    "    'some word'\n",
    "\n",
    "    def __init__(self, some_string):\n",
    "        '''Creates an instance and assigns some_string to example_string.'''\n",
    "        self.example_string = some_string\n",
    "        return\n",
    "    \n",
    "    def print(self):\n",
    "        '''\n",
    "        Prints and returns the example_string.\n",
    "        \n",
    "        Arguments:\n",
    "        - none\n",
    "        \n",
    "        Returns: \n",
    "        - example_string\n",
    "        '''\n",
    "        print(self.example_string)\n",
    "\n",
    "        return self.example_string\n",
    "\n",
    "print('printing the .__doc__ attribute:')\n",
    "print(ExampleClass.__doc__)\n",
    "print('printing the output of help(ExampleClass):')\n",
    "print(help(ExampleClass))\n",
    "print('printing the help(ExampleClass.print):')\n",
    "print(help(ExampleClass.print))\n"
   ]
  },
  {
   "cell_type": "markdown",
   "metadata": {},
   "source": [
    "## Type hints\n",
    "In python you do not need to tell the type of a variable when you initialize it (unlike static typed languages like C++), but you can still declare a type in a type hint. <br>\n",
    "This might seem like extra work, but they make your code much more clear, so consider using them. <br>\n",
    "Consider the following function - you might not particularly care what the function does, but need to use it - so you want to insert a number. Without the type hint, you might be inclined to insert a float or an integer number, but the type hint tells you to only use the function with a string. You get further information about the function by the \"-> bool\", namely that the function only returns true or false."
   ]
  },
  {
   "cell_type": "code",
   "execution_count": null,
   "metadata": {},
   "outputs": [],
   "source": [
    "def luhn_checksum(number:str)->bool:\n",
    "    def digits_of(n:str):\n",
    "        return [int(d) for d in n]\n",
    "    digits:list = digits_of(number)\n",
    "    odd_digits:list = digits[-1::-2]\n",
    "    even_digits:list = digits[-2::-2]\n",
    "    checksum:int = 0\n",
    "    checksum += sum(odd_digits)\n",
    "    for d in even_digits:\n",
    "        checksum += sum(digits_of(d*2))\n",
    "    return checksum % 10 == 0"
   ]
  },
  {
   "cell_type": "markdown",
   "metadata": {},
   "source": [
    "# Tasks\n",
    "Below you find the complete code for a simple game of tic tac toe, split up in several functions. Your tasks will be to comment and document parts of the code. The last cell starts the game, so you can skip the tasks at first if you want to check what you are working for...\n",
    "\n",
    "Source of the code: https://favtutor.com/blog-details/7-Python-Projects-For-Beginners"
   ]
  },
  {
   "cell_type": "code",
   "execution_count": 14,
   "metadata": {},
   "outputs": [],
   "source": [
    "import random"
   ]
  },
  {
   "cell_type": "markdown",
   "metadata": {},
   "source": [
    "### Understand and comment\n",
    "We start by making a board and some simple functions for it. \n",
    "Your task is to read the code given here, maybe do some tests in the cell below, and then **comment** the code (at least one comment per function).<br>\n",
    "Please also apply type hints!"
   ]
  },
  {
   "cell_type": "code",
   "execution_count": 15,
   "metadata": {},
   "outputs": [],
   "source": [
    "#make a simple board with 10 empty spaces in a list\n",
    "board = [' ' for x in range(9)]\n",
    "\n",
    "def insertLetter(letter,pos):\n",
    "    #change one cell (at pos) to the letter instead of empty\n",
    "    board[pos] = letter\n",
    "\n",
    "def spaceIsFree(pos):\n",
    "    return board[pos] == ' '\n",
    "\n",
    "def printBoard(board):\n",
    "    print('   |   |   ')\n",
    "    print(' ' + board[1] + ' | ' + board[2] + ' | ' + board[3])\n",
    "    print('   |   |   ')\n",
    "    print('------------')\n",
    "    print('   |   |   ')\n",
    "    print(' ' + board[4] + ' | ' + board[5] + ' | ' + board[6])\n",
    "    print('   |   |   ')\n",
    "    print('------------')\n",
    "    print('   |   |   ')\n",
    "    print(' ' + board[7] + ' | ' + board[8] + ' | ' + board[9])\n",
    "    print('   |   |   ')\n",
    "\n",
    "def isBoardFull(board):\n",
    "    if board.count(' ') > 1:\n",
    "        return False\n",
    "    else:\n",
    "        return True\n",
    "\n",
    "def IsWinner(b,l):\n",
    "    return ((b[1] == l and b[2] == l and b[3] == l) or\n",
    "    (b[4] == l and b[5] == l and b[6] == l) or\n",
    "    (b[7] == l and b[8] == l and b[9] == l) or\n",
    "    (b[1] == l and b[4] == l and b[7] == l) or\n",
    "    (b[2] == l and b[5] == l and b[8] == l) or\n",
    "    (b[3] == l and b[6] == l and b[9] == l) or\n",
    "    (b[1] == l and b[5] == l and b[9] == l) or\n",
    "    (b[3] == l and b[5] == l and b[7] == l))"
   ]
  },
  {
   "cell_type": "code",
   "execution_count": 16,
   "metadata": {},
   "outputs": [
    {
     "data": {
      "text/plain": [
       "10"
      ]
     },
     "execution_count": 16,
     "metadata": {},
     "output_type": "execute_result"
    }
   ],
   "source": [
    "#room for tests\n",
    "len(board)"
   ]
  },
  {
   "cell_type": "markdown",
   "metadata": {},
   "source": [
    "### Pseudocode\n",
    "Pseudocode can be a good way to start thinking about code you want to write - instead of thinking about the syntax, you focus on _what_ you want to do and write that in a comment. \n",
    "\n",
    "Take the function playerMove and translate it into easily readable pseudocode."
   ]
  },
  {
   "cell_type": "code",
   "execution_count": 17,
   "metadata": {},
   "outputs": [],
   "source": [
    "def playerMove():\n",
    "    run = True\n",
    "    while run:\n",
    "        move = input(\"please select a position to enter the X between 1 to 9\")\n",
    "        try:\n",
    "            move = int(move)\n",
    "            if move > 0 and move < 10:\n",
    "                if spaceIsFree(move):\n",
    "                    run = False\n",
    "                    insertLetter('X' , move)\n",
    "                else:\n",
    "                    print('Sorry, this space is occupied')\n",
    "            else:\n",
    "                print('please type a number between 1 and 9')\n",
    "\n",
    "        except:\n",
    "            print('Please type a number')\n"
   ]
  },
  {
   "cell_type": "code",
   "execution_count": 18,
   "metadata": {},
   "outputs": [],
   "source": [
    "#Your Pseudocode\n",
    "#def playerMove():\n",
    "    #while no input\n",
    "        #ask for input\n",
    "        #....\n"
   ]
  },
  {
   "cell_type": "markdown",
   "metadata": {},
   "source": [
    "### Your code should be self explanatory\n",
    "Mnemonic names can often make your code much more readable than comments - so take the function computerMove below and change the variable names such that the comments in it become obsolete.\n",
    "\n",
    "Example: in line 3, change N to possible moves (and do the same wherever N occures), which makes the line \"N = [x for x , letter in enumerate(board) if letter == ' ' and x != 0  ]\" much more readable.\n",
    " "
   ]
  },
  {
   "cell_type": "code",
   "execution_count": 19,
   "metadata": {},
   "outputs": [],
   "source": [
    "def computerMove():\n",
    "    #create a list of all possible moves\n",
    "    N = [x for x , letter in enumerate(board) if letter == ' ' and x != 0  ]\n",
    "    j = 0 # default best move is 0\n",
    "\n",
    "    for y in ['O' , 'X']: #for both possible values of an occupied cell\n",
    "        for i in N: #for all possible js\n",
    "            c = board[:] #copy board\n",
    "            c[i] = y # set that cell to the current player\n",
    "    \n",
    "            if IsWinner(c, y): #does either player win there?\n",
    "                j = i #that's the best move!\n",
    "                return j\n",
    "\n",
    "    cornersOpen = []\n",
    "    for i in N:\n",
    "        if i in [1 , 3 , 7 , 9]:\n",
    "            cornersOpen.append(i)\n",
    "\n",
    "    if len(cornersOpen) > 0:\n",
    "        j = selectRandom(cornersOpen)\n",
    "        return j\n",
    "\n",
    "    if 5 in N:\n",
    "        j = 5\n",
    "        return j\n",
    "\n",
    "    edgesOpen = []\n",
    "    for i in N:\n",
    "        if i in [2,4,6,8]:\n",
    "            edgesOpen.append(i)\n",
    "\n",
    "    if len(edgesOpen) > 0:\n",
    "        j = selectRandom(edgesOpen)\n",
    "        return j\n"
   ]
  },
  {
   "cell_type": "markdown",
   "metadata": {},
   "source": [
    "### Documentation of functions you know\n",
    "Check the documentation for the print and display function.\n"
   ]
  },
  {
   "cell_type": "code",
   "execution_count": null,
   "metadata": {},
   "outputs": [],
   "source": []
  },
  {
   "cell_type": "markdown",
   "metadata": {},
   "source": [
    "### Document\n",
    "Write a documention (as docstrings) for selectRandom and main, then print it."
   ]
  },
  {
   "cell_type": "code",
   "execution_count": 20,
   "metadata": {},
   "outputs": [
    {
     "name": "stdout",
     "output_type": "stream",
     "text": [
      "Help on function main in module __main__:\n",
      "\n",
      "main()\n",
      "\n",
      "None\n"
     ]
    }
   ],
   "source": [
    "def selectRandom(li):\n",
    "\n",
    "    ln = len(li)\n",
    "    r = random.randrange(0,ln)\n",
    "    return li[r]\n",
    "\n",
    "def main():\n",
    "\n",
    "    print(\"Welcome to the game!\")\n",
    "    printBoard(board)\n",
    "\n",
    "    while not(isBoardFull(board)):\n",
    "        if not(IsWinner(board , 'O')):\n",
    "            playerMove()\n",
    "            printBoard(board)\n",
    "        else:\n",
    "            print(\"sorry you loose!\")\n",
    "            break\n",
    "\n",
    "        if not(IsWinner(board , 'X')) and not(isBoardFull(board)):\n",
    "            move = computerMove()\n",
    "            if move == 0:\n",
    "                print(\" \")\n",
    "            else:\n",
    "                insertLetter('O' , move)\n",
    "                print('computer placed an o on position' , move , ':')\n",
    "                printBoard(board)\n",
    "        elif IsWinner(board , 'X'):\n",
    "            print(\"you win!\")\n",
    "            break\n",
    "\n",
    "    if isBoardFull(board):\n",
    "        print(\"Tie game\")\n",
    "print(help(main))"
   ]
  },
  {
   "cell_type": "markdown",
   "metadata": {},
   "source": [
    "### Play the game\n",
    "Now play some tic tac toe! just run the cell below to start."
   ]
  },
  {
   "cell_type": "code",
   "execution_count": 21,
   "metadata": {},
   "outputs": [],
   "source": [
    "while True:\n",
    "    x = input(\"Do you want to play again? (y/n)\")\n",
    "    if x.lower() == 'y':\n",
    "        board = [' ' for x in range(10)]\n",
    "        print('--------------------')\n",
    "        main()\n",
    "    else:\n",
    "        break"
   ]
  },
  {
   "cell_type": "markdown",
   "metadata": {},
   "source": [
    "## Well Done! \n",
    "Now use your skills in all future projects!"
   ]
  }
 ],
 "metadata": {
  "kernelspec": {
   "display_name": "Python 3",
   "language": "python",
   "name": "python3"
  },
  "language_info": {
   "codemirror_mode": {
    "name": "ipython",
    "version": 3
   },
   "file_extension": ".py",
   "mimetype": "text/x-python",
   "name": "python",
   "nbconvert_exporter": "python",
   "pygments_lexer": "ipython3",
   "version": "3.8.5"
  }
 },
 "nbformat": 4,
 "nbformat_minor": 4
}
