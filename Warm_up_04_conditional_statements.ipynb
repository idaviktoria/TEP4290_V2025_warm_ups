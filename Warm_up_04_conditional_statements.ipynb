{
 "cells": [
  {
   "cell_type": "markdown",
   "metadata": {},
   "source": [
    "# Dynamic Modelling Course - TEP4290: Warm-up 4\n",
    "The point of this exercise is for you to practice what you have learned in the recommended videos.\n",
    "- PY4E: https://www.py4e.com/lessons/logic\n",
    "You will perform some basic operations that are designed to help you get comforable with Python. The exercise is not graded and will be discussed in the next exercises session in detail to clarify any doubts you may still have. \n",
    "\n",
    "Good luck!"
   ]
  },
  {
   "cell_type": "markdown",
   "metadata": {},
   "source": [
    "### Link to recommended material\n",
    "- PY4E: https://www.py4e.com/lessons/logic"
   ]
  },
  {
   "cell_type": "markdown",
   "metadata": {},
   "source": [
    "# Tasks\n",
    "\n",
    "Answer the questions or complete the tasks outlined in bold below, use the specific method described if applicable."
   ]
  },
  {
   "cell_type": "markdown",
   "metadata": {},
   "source": [
    "### Test divisibility\n",
    "Write some code that checks if some number you can assign is divisible by 5 and prints \"number is divisible by 5\" or \"number is not divisible by 5.\n",
    "Test your code with 10 and 11.\n",
    "\n",
    "Hint: you can use the modulo operation in python, %, that returns the remainder of a division (5%2 returns 2, 10%7 returns 3)\n"
   ]
  },
  {
   "cell_type": "code",
   "execution_count": 2,
   "metadata": {},
   "outputs": [
    {
     "name": "stdout",
     "output_type": "stream",
     "text": [
      "Number is divisible by 5\n"
     ]
    }
   ],
   "source": [
    "number = 10\n",
    "\n",
    "if number % 5 == 0:\n",
    "    print('Number is divisible by 5')\n",
    "else:\n",
    "    print('Number is not divisible by 5')\n"
   ]
  },
  {
   "cell_type": "markdown",
   "metadata": {},
   "source": [
    "### Advanced divisibility\n",
    "Write some code that checks if some number you can assign is divisible by  _either_ 5 _or_ 11 and prints \"number is divisible by 5 or 11\" or \"number is not divisible by 5 or 11\".\n",
    "Test your code with 50, 55, 59 and 66."
   ]
  },
  {
   "cell_type": "code",
   "execution_count": 8,
   "metadata": {},
   "outputs": [
    {
     "name": "stdout",
     "output_type": "stream",
     "text": [
      "Number is divisible by 5 or 11\n"
     ]
    }
   ],
   "source": [
    "number = 59\n",
    "\n",
    "if number % 5 == 0 or number % 11:\n",
    "    print('Number is divisible by 5 or 11')\n",
    "else:\n",
    "    print('Number is not divisible by 5 or 11')\n"
   ]
  },
  {
   "cell_type": "markdown",
   "metadata": {},
   "source": [
    "### Check letter\n",
    "Write some code that checks whether any lowercase letter you assign to the variable letter is a vowel or not, and prints a statement telling us."
   ]
  },
  {
   "cell_type": "code",
   "execution_count": 11,
   "metadata": {},
   "outputs": [
    {
     "name": "stdout",
     "output_type": "stream",
     "text": [
      "The letter a is a vowel.\n"
     ]
    }
   ],
   "source": [
    "letter = 'a'\n",
    "\n",
    "vowels = 'aeiou'\n",
    "\n",
    "if letter in vowels:\n",
    "    print(f'The letter {letter} is a vowel.')\n",
    "else:\n",
    "    print(f'The letter {letter} is not a vowel.')"
   ]
  },
  {
   "cell_type": "markdown",
   "metadata": {},
   "source": [
    "### Grading\n",
    "Write a program that transforms a score between 0 and 1 to A to F. If the score is out of range, print an error. If the score is between 0.0 and 1.0, print a grade using the following table:\n",
    "Score Grade\n",
    ">= 0.9 A\n",
    ">= 0.8 B\n",
    ">= 0.7 C\n",
    ">= 0.6 D\n",
    "< 0.6 F\n",
    "For the test, enter a score of 0.85, which should be transformed into a B."
   ]
  },
  {
   "cell_type": "code",
   "execution_count": 12,
   "metadata": {},
   "outputs": [
    {
     "name": "stdout",
     "output_type": "stream",
     "text": [
      "The grade for a score of 0.85 is B.\n"
     ]
    }
   ],
   "source": [
    "def score_to_grade(score):\n",
    "    if score < 0.0 or score > 1.0:\n",
    "        return \"Error: Score is out of range.\"\n",
    "    elif score >= 0.9:\n",
    "        return \"A\"\n",
    "    elif score >= 0.8:\n",
    "        return \"B\"\n",
    "    elif score >= 0.7:\n",
    "        return \"C\"\n",
    "    elif score >= 0.6:\n",
    "        return \"D\"\n",
    "    else:\n",
    "        return \"F\"\n",
    "\n",
    "# Test the function with a score of 0.85\n",
    "test_score = 0.85\n",
    "grade = score_to_grade(test_score)\n",
    "print(f'The grade for a score of {test_score} is {grade}.')"
   ]
  },
  {
   "cell_type": "markdown",
   "metadata": {},
   "source": [
    "# Well done!"
   ]
  }
 ],
 "metadata": {
  "kernelspec": {
   "display_name": "MFA",
   "language": "python",
   "name": "python3"
  },
  "language_info": {
   "codemirror_mode": {
    "name": "ipython",
    "version": 3
   },
   "file_extension": ".py",
   "mimetype": "text/x-python",
   "name": "python",
   "nbconvert_exporter": "python",
   "pygments_lexer": "ipython3",
   "version": "3.9.21"
  }
 },
 "nbformat": 4,
 "nbformat_minor": 2
}
