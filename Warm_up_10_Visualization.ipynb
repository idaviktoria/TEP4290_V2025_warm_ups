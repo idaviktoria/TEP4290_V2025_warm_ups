{
 "cells": [
  {
   "cell_type": "markdown",
   "metadata": {},
   "source": [
    "# Dynamic Modelling Course - TEP4290: Warm-up 10\n",
    "The point of this exercise is for you to practice what you have learned in the recommended video: \n",
    "- https://www.youtube.com/watch?v=0P7QnIQDBJY (especially between time codes 3:48 and 21:52). The rest of the video is well done as well so do not hesitate to jump to other parts to have a look. \n",
    "- cheat sheets: https://matplotlib.org/cheatsheets/\n",
    "\n",
    "Good luck!"
   ]
  },
  {
   "cell_type": "markdown",
   "metadata": {},
   "source": [
    "# About Matplotlib"
   ]
  },
  {
   "cell_type": "markdown",
   "metadata": {},
   "source": [
    "Matplotlib is a plotting library for the Python programming language."
   ]
  },
  {
   "cell_type": "markdown",
   "metadata": {},
   "source": [
    "# Tasks"
   ]
  },
  {
   "cell_type": "markdown",
   "metadata": {},
   "source": [
    "## Import the package"
   ]
  },
  {
   "cell_type": "markdown",
   "metadata": {},
   "source": [
    "To use the functionalities offered by the Matplotlib.pyplot package, you must first load it. Usually, it is imported under the alias **plt**."
   ]
  },
  {
   "cell_type": "markdown",
   "metadata": {},
   "source": [
    "Import Matplotlib.pyplot under the alias \"**plt**\"."
   ]
  },
  {
   "cell_type": "code",
   "execution_count": 1,
   "metadata": {},
   "outputs": [],
   "source": []
  },
  {
   "cell_type": "markdown",
   "metadata": {},
   "source": [
    "## Recap of Warm-up 09"
   ]
  },
  {
   "cell_type": "markdown",
   "metadata": {},
   "source": [
    "In the recommended video, the plots are based on the columns of a Pandas dataframe imported via a csv file. In this warm-up, we will work with NumPy arrays computed in your work on Warm-up 9. The functions seen in the video work in the same way for both types of objects, so this will not be a problem."
   ]
  },
  {
   "cell_type": "markdown",
   "metadata": {},
   "source": [
    "As a reminder, in Warm-up 9, you extracted information from a csv file which contained information about inflows of cars over time. From this, and based on a sharp lifetime of four years, you computed the outflows of cars per year."
   ]
  },
  {
   "cell_type": "markdown",
   "metadata": {},
   "source": [
    "There are various ways to use the output of another Jupyter notebook including (but not restricted to):\n",
    "- Pickling\n",
    "- Importing the other notebook. Note that this would require to write the entire other notebook as a class or a function.\n",
    "- Exporting the result of the other notebook to a csv file and reading it in this notebook.\n",
    "- Writing the instruction to run this other notebook in your code.\n",
    "\n",
    "\n",
    "For this work, we will make things simple and just create two variables with the correct results that were expected so you can use the results even if you did not manage to reach the last task in Warm-up 09. Feel free however to use any of the other methods to import your own output in this notebook."
   ]
  },
  {
   "cell_type": "code",
   "execution_count": 14,
   "metadata": {},
   "outputs": [],
   "source": [
    "import numpy as np\n",
    "\n",
    "inflows = np.array([1.15786405e+03, 3.08565102e+03, 1.31464458e+03, 4.84354551e+03,\n",
    "                   3.57574517e+03, 2.61054240e+03, 6.04938817e+03, 3.19706580e+03,\n",
    "                   5.75397706e+03, 6.52657867e+03, 7.19272301e+02, 3.13287589e+03,\n",
    "                   3.67418264e+03, 3.54452598e+03, 6.04292880e+03, 9.36723546e+03,\n",
    "                   6.21229886e+03, 4.26659473e+03, 4.41997355e+03, 4.86332309e+03,\n",
    "                   1.07891040e+04, 1.21971060e+04, 2.02880069e+04, 2.33739903e+04,\n",
    "                   2.75679497e+04, 3.47901283e+04, 3.47669415e+04, 2.84238818e+04,\n",
    "                   3.81884417e+04, 4.40034827e+04, 6.10080218e+04, 6.29519281e+04,\n",
    "                   4.54718391e+04, 4.69895658e+04, 9.79297024e+04, 2.46926421e+05,\n",
    "                   1.89560034e+05, 1.69567029e+05, 2.13787842e+05, 1.89120253e+05,\n",
    "                   1.90843253e+05, 2.69124686e+05, 4.54130659e+05, 6.50893682e+05,\n",
    "                   6.99527911e+05, 7.54783148e+05, 7.87853661e+05, 1.04674934e+06,\n",
    "                   8.45216718e+05, 9.97514940e+05, 1.30459904e+06, 1.60256501e+06,\n",
    "                   2.32064613e+06, 3.04394180e+06, 2.90134964e+06, 4.35522219e+06,\n",
    "                   5.33073384e+06, 6.30587946e+06, 7.06752064e+06, 0.00000000e+00,\n",
    "                   0.00000000e+00, 0.00000000e+00, 0.00000000e+00, 0.00000000e+00,\n",
    "                   0.00000000e+00, 0.00000000e+00, 0.00000000e+00, 0.00000000e+00,\n",
    "                   0.00000000e+00, 0.00000000e+00, 0.00000000e+00, 0.00000000e+00,\n",
    "                   0.00000000e+00, 0.00000000e+00, 0.00000000e+00, 0.00000000e+00,\n",
    "                   0.00000000e+00, 0.00000000e+00, 0.00000000e+00, 0.00000000e+00,\n",
    "                   0.00000000e+00, 0.00000000e+00, 0.00000000e+00, 0.00000000e+00,\n",
    "                   0.00000000e+00, 0.00000000e+00, 0.00000000e+00, 0.00000000e+00,\n",
    "                   0.00000000e+00, 0.00000000e+00, 0.00000000e+00, 0.00000000e+00,\n",
    "                   0.00000000e+00, 0.00000000e+00, 0.00000000e+00, 0.00000000e+00,\n",
    "                   0.00000000e+00, 0.00000000e+00, 0.00000000e+00, 0.00000000e+00,\n",
    "                   0.00000000e+00])\n",
    "\n",
    "outflows = np.array([0.00000000e+00, 0.00000000e+00, 0.00000000e+00, 0.00000000e+00,\n",
    "                   0.00000000e+00, 3.08565102e+03, 1.31464458e+03, 4.84354551e+03,\n",
    "                   3.57574517e+03, 2.61054240e+03, 6.04938817e+03, 3.19706580e+03,\n",
    "                   5.75397706e+03, 6.52657867e+03, 7.19272301e+02, 3.13287589e+03,\n",
    "                   3.67418264e+03, 3.54452598e+03, 6.04292880e+03, 9.36723546e+03,\n",
    "                   6.21229886e+03, 4.26659473e+03, 4.41997355e+03, 4.86332309e+03,\n",
    "                   1.07891040e+04, 1.21971060e+04, 2.02880069e+04, 2.33739903e+04,\n",
    "                   2.75679497e+04, 3.47901283e+04, 3.47669415e+04, 2.84238818e+04,\n",
    "                   3.81884417e+04, 4.40034827e+04, 6.10080218e+04, 6.29519281e+04,\n",
    "                   4.54718391e+04, 4.69895658e+04, 9.79297024e+04, 2.46926421e+05,\n",
    "                   1.89560034e+05, 1.69567029e+05, 2.13787842e+05, 1.89120253e+05,\n",
    "                   1.90843253e+05, 2.69124686e+05, 4.54130659e+05, 6.50893682e+05,\n",
    "                   6.99527911e+05, 7.54783148e+05, 7.87853661e+05, 1.04674934e+06,\n",
    "                   8.45216718e+05, 9.97514940e+05, 1.30459904e+06, 1.60256501e+06,\n",
    "                   2.32064613e+06, 3.04394180e+06, 2.90134964e+06, 4.35522219e+06,\n",
    "                   5.33073384e+06, 6.30587946e+06, 7.06752064e+06, 0.00000000e+00,\n",
    "                   0.00000000e+00, 0.00000000e+00, 0.00000000e+00, 0.00000000e+00,\n",
    "                   0.00000000e+00, 0.00000000e+00, 0.00000000e+00, 0.00000000e+00,\n",
    "                   0.00000000e+00, 0.00000000e+00, 0.00000000e+00, 0.00000000e+00,\n",
    "                   0.00000000e+00, 0.00000000e+00, 0.00000000e+00, 0.00000000e+00,\n",
    "                   0.00000000e+00, 0.00000000e+00, 0.00000000e+00, 0.00000000e+00,\n",
    "                   0.00000000e+00, 0.00000000e+00, 0.00000000e+00, 0.00000000e+00,\n",
    "                   0.00000000e+00, 0.00000000e+00, 0.00000000e+00, 0.00000000e+00,\n",
    "                   0.00000000e+00, 0.00000000e+00, 0.00000000e+00, 0.00000000e+00,\n",
    "                   0.00000000e+00, 0.00000000e+00, 0.00000000e+00, 0.00000000e+00,\n",
    "                   0.00000000e+00])"
   ]
  },
  {
   "cell_type": "markdown",
   "metadata": {},
   "source": [
    "## Plotting "
   ]
  },
  {
   "cell_type": "markdown",
   "metadata": {},
   "source": [
    "We would like to plot the inflows and the outflows for each year on a same graph. Let's start by defining a NumPy array called *time* containing all the years from 1950 to 2050 (included)."
   ]
  },
  {
   "cell_type": "code",
   "execution_count": 17,
   "metadata": {},
   "outputs": [
    {
     "name": "stdout",
     "output_type": "stream",
     "text": [
      "[1950 1951 1952 1953 1954 1955 1956 1957 1958 1959 1960 1961 1962 1963\n",
      " 1964 1965 1966 1967 1968 1969 1970 1971 1972 1973 1974 1975 1976 1977\n",
      " 1978 1979 1980 1981 1982 1983 1984 1985 1986 1987 1988 1989 1990 1991\n",
      " 1992 1993 1994 1995 1996 1997 1998 1999 2000 2001 2002 2003 2004 2005\n",
      " 2006 2007 2008 2009 2010 2011 2012 2013 2014 2015 2016 2017 2018 2019\n",
      " 2020 2021 2022 2023 2024 2025 2026 2027 2028 2029 2030 2031 2032 2033\n",
      " 2034 2035 2036 2037 2038 2039 2040 2041 2042 2043 2044 2045 2046 2047\n",
      " 2048 2049 2050]\n"
     ]
    }
   ],
   "source": []
  },
  {
   "cell_type": "markdown",
   "metadata": {},
   "source": [
    "Based on these vectors, plot on a same graph the inflows and the outflows as a variable of time. The graph should respect the following formatting:\n",
    "- The figure size should be 15 by 6\n",
    "- There shoudl be a title in bold font size 15\n",
    "- There should be a legend located in the top left corner\n",
    "- The inflows should be represented in as stars (\"******\") in red\n",
    "- The outflows should be represented in a dashed line (\"---\") in green\n",
    "- The time range should be restricted 1950 to 2008 only\n",
    "- Each axis should be named\n",
    "- The x axis should show years with an increment of 5 years, starting from 1950. 2008 should be added as the last date.\n",
    "\n",
    "\n",
    "\n"
   ]
  },
  {
   "cell_type": "code",
   "execution_count": 78,
   "metadata": {},
   "outputs": [
    {
     "data": {
      "image/png": "[encoded data removed]",
      "text/plain": [
       "<Figure size 1080x432 with 1 Axes>"
      ]
     },
     "metadata": {
      "needs_background": "light"
     },
     "output_type": "display_data"
    }
   ],
   "source": [
    "start = 1950 - 1950\n",
    "end = 2008 - 1950\n",
    "\n",
    "\n",
    "\n",
    "# Sometimes, Jupyter notebooks display things like \"[<matplotlib.lines.Line2D at 0x7ff6c8bb85b0>]\" before the plot\n",
    "# The semi-colons at the end of the instructions help to get rid of it"
   ]
  },
  {
   "cell_type": "markdown",
   "metadata": {},
   "source": [
    "Matplotlib also has plenty of other types of charts.To exemplify one of them, we now would like to plot the outflows in a bar chart based on the five-years time period where the cars exited the stock.\n",
    "\n",
    "For that, we need to group the values by periods of five-year time from 1950 to 2008 (note that the last one will be 2005-2008). \n",
    "\n",
    "First step: create a list of string in the form of \"19XX - 19XX\" or \"20XX-20XX\" corresponding to the five-years time period where the cars exited the stock, starting from 1950.\n"
   ]
  },
  {
   "cell_type": "code",
   "execution_count": 112,
   "metadata": {},
   "outputs": [
    {
     "name": "stdout",
     "output_type": "stream",
     "text": [
      "['1950-1954', '1955-1959', '1960-1964', '1965-1969', '1970-1974', '1975-1979', '1980-1984', '1985-1989', '1990-1994', '1995-1999', '2000-2004', '2005-2008']\n"
     ]
    }
   ],
   "source": [
    "x = []\n",
    "i = 0\n",
    "\n",
    "\n",
    "\n",
    "print(x)\n"
   ]
  },
  {
   "cell_type": "markdown",
   "metadata": {},
   "source": [
    "Second step: create a list containing the outflows grouped by five-years time period (e.g. sum over 1970-1974)."
   ]
  },
  {
   "cell_type": "code",
   "execution_count": 114,
   "metadata": {},
   "outputs": [
    {
     "name": "stdout",
     "output_type": "stream",
     "text": [
      "[0.0, 12819.58628, 21527.0097, 16394.513310000002, 19762.19023, 83427.0529, 145382.7477, 253343.0354, 762035.158, 2073676.938, 3677334.659, 6967152.9399999995]\n"
     ]
    }
   ],
   "source": [
    "outflows_grouped = []\n",
    "\n",
    "i = 0\n",
    "\n",
    "\n",
    "print(outflows_grouped)\n"
   ]
  },
  {
   "cell_type": "markdown",
   "metadata": {},
   "source": [
    "Plot the corresponding bar chart. Don't forget to include an adequate formatting (title, axis, figure size etc).\n",
    "\n",
    "Some extra content on bar chart can be found online (eg. https://www.w3schools.com/python/matplotlib_bars.asp)."
   ]
  },
  {
   "cell_type": "code",
   "execution_count": 111,
   "metadata": {},
   "outputs": [
    {
     "data": {
      "image/png": "[encoded data removed]",
      "text/plain": [
       "<Figure size 1440x504 with 1 Axes>"
      ]
     },
     "metadata": {
      "needs_background": "light"
     },
     "output_type": "display_data"
    }
   ],
   "source": [
    "\n",
    "\n"
   ]
  },
  {
   "cell_type": "markdown",
   "metadata": {},
   "source": [
    "Well done!"
   ]
  }
 ],
 "metadata": {
  "kernelspec": {
   "display_name": "Python 3",
   "language": "python",
   "name": "python3"
  },
  "language_info": {
   "codemirror_mode": {
    "name": "ipython",
    "version": 3
   },
   "file_extension": ".py",
   "mimetype": "text/x-python",
   "name": "python",
   "nbconvert_exporter": "python",
   "pygments_lexer": "ipython3",
   "version": "3.8.5"
  }
 },
 "nbformat": 4,
 "nbformat_minor": 4
}
